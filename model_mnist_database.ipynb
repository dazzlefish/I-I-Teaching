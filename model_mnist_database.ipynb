{
  "nbformat": 4,
  "nbformat_minor": 0,
  "metadata": {
    "colab": {
      "provenance": [],
      "authorship_tag": "ABX9TyP3JGgQ9Jo4VhiBl8BVJ4sy",
      "include_colab_link": true
    },
    "kernelspec": {
      "name": "python3",
      "display_name": "Python 3"
    },
    "language_info": {
      "name": "python"
    }
  },
  "cells": [
    {
      "cell_type": "markdown",
      "metadata": {
        "id": "view-in-github",
        "colab_type": "text"
      },
      "source": [
        "<a href=\"https://colab.research.google.com/github/dazzlefish/I-I-Teaching/blob/master/model_mnist_database.ipynb\" target=\"_parent\"><img src=\"https://colab.research.google.com/assets/colab-badge.svg\" alt=\"Open In Colab\"/></a>"
      ]
    },
    {
      "cell_type": "markdown",
      "source": [
        "# Convolutional Networks met Keras en Layers van Tensorflow (model), met pandas (history bijhouden) en numpy (images als lijst en grafieken).\n",
        "\n",
        "## Dit notebook is gebaseerd op\n",
        "https://www.machinelearningnuggets.com/cnn-tensorflow/"
      ],
      "metadata": {
        "id": "PRNHwhemHEOL"
      }
    },
    {
      "cell_type": "markdown",
      "source": [
        "Importeer eerste de benodigde libraries en test of de moeilijkste (tensorflow) werkt."
      ],
      "metadata": {
        "id": "rfiDiZYUICG0"
      }
    },
    {
      "cell_type": "code",
      "execution_count": null,
      "metadata": {
        "id": "Coi4cAXiwZZt"
      },
      "outputs": [],
      "source": [
        "import tensorflow as tf\n",
        "print(\"TensorFlow version:\", tf.__version__)"
      ]
    },
    {
      "cell_type": "code",
      "source": [
        "import pandas as pd\n",
        "import sys\n",
        "import numpy as np"
      ],
      "metadata": {
        "id": "M0z787uh89wE"
      },
      "execution_count": null,
      "outputs": []
    },
    {
      "cell_type": "markdown",
      "source": [
        "Haal de mnist dataset (plaatjes van getallen) op"
      ],
      "metadata": {
        "id": "GoFNOV_jIR_4"
      }
    },
    {
      "cell_type": "code",
      "source": [
        "mnist = tf.keras.datasets.mnist\n",
        "\n",
        "(x_train_images, y_train_labels), (x_test_images, y_test_labels) = mnist.load_data()\n",
        "x_train_images, x_test_images = x_train_images / 255.0, x_test_images / 255.0"
      ],
      "metadata": {
        "id": "QW4N60NlweKQ"
      },
      "execution_count": null,
      "outputs": []
    },
    {
      "cell_type": "markdown",
      "source": [
        "Print uit wat de array is van 1 plaatje uit de dataset, voor de numpy library die het in een numpy array stopt\n",
        "1. Wat is een array?"
      ],
      "metadata": {
        "id": "ZQPb8DK3IQjt"
      }
    },
    {
      "cell_type": "code",
      "source": [
        "print (x_train_images[0][5])"
      ],
      "metadata": {
        "id": "MARZobJ7wjn_"
      },
      "execution_count": null,
      "outputs": []
    },
    {
      "cell_type": "markdown",
      "source": [
        "Sla 1 plaatje op in een variabele"
      ],
      "metadata": {
        "id": "dvnRFx6qIwNA"
      }
    },
    {
      "cell_type": "code",
      "source": [
        "plaatje = x_train_images[0][5]"
      ],
      "metadata": {
        "id": "FEN-ofNOxng1"
      },
      "execution_count": null,
      "outputs": []
    },
    {
      "cell_type": "markdown",
      "source": [
        "Een andere manier om plaatjes en grafieken weer te geven is matplotlib.\n",
        "Dit hebben we in periode 3 in het 1e jaar gebruikt tijdens het PO over de SQL\n",
        "(Misschien vwo6 in 23-24 niet)"
      ],
      "metadata": {
        "id": "ELCmj3cbI52g"
      }
    },
    {
      "cell_type": "code",
      "source": [
        "\n",
        "import matplotlib.pyplot as plt\n",
        "from mpl_toolkits import mplot3d\n",
        "import matplotlib.image as mpimg"
      ],
      "metadata": {
        "id": "xxrXf3iuyH7i"
      },
      "execution_count": null,
      "outputs": []
    },
    {
      "cell_type": "markdown",
      "source": [
        "% is alleen geldig in jupyter notebooks om meteen resultaat uit grafiekjes weer te geven"
      ],
      "metadata": {
        "id": "mJgM5I6SJguk"
      }
    },
    {
      "cell_type": "code",
      "source": [
        "#imread(xtrain[0])\n",
        "#mpimg.imread(plaatje)\n",
        "%matplotlib inline"
      ],
      "metadata": {
        "id": "M_euga4zyNqT"
      },
      "execution_count": null,
      "outputs": []
    },
    {
      "cell_type": "markdown",
      "source": [
        "2. Wat zijn de dimensies van ons plaatje?"
      ],
      "metadata": {
        "id": "s-Ef1vs7JrD1"
      }
    },
    {
      "cell_type": "code",
      "source": [
        "print (plaatje.shape )"
      ],
      "metadata": {
        "id": "-rjr-4yl1-iC"
      },
      "execution_count": null,
      "outputs": []
    },
    {
      "cell_type": "markdown",
      "source": [
        "3. Als we alleen een x-as hebben, kunnen we dan een plaatje als grafiek weergeven?\n",
        "4. wat laat plt.imshow(plaatje) zien?\n",
        "5. wat doe ik anders hieronder om wel twee dimensies te krijgen?"
      ],
      "metadata": {
        "id": "L6TjOnkTJ3Uc"
      }
    },
    {
      "cell_type": "code",
      "source": [
        "print (x_train_images[0].shape )"
      ],
      "metadata": {
        "id": "UXgZ41P43egH"
      },
      "execution_count": null,
      "outputs": []
    },
    {
      "cell_type": "markdown",
      "source": [
        "De websites met tutorials gebruiken altijd x voor de plaatjes en y als de labels. Net zoals we onze foto's labels hebben gegeven. als je de website met de CNN tutorial gaat en de tensorflow beginners tutorial bekijkt, zie je dat ik dan maar beide naamgevingen heb gecombineerd."
      ],
      "metadata": {
        "id": "F70T_Pf6KUgb"
      }
    },
    {
      "cell_type": "code",
      "source": [
        "print (y_train_labels[0] )"
      ],
      "metadata": {
        "id": "k7nGoquh7i5H"
      },
      "execution_count": null,
      "outputs": []
    },
    {
      "cell_type": "code",
      "source": [
        "beter_plaatje = x_train_images[0]\n",
        "plt.imshow(beter_plaatje)"
      ],
      "metadata": {
        "id": "pRYxvRQa4rL4"
      },
      "execution_count": null,
      "outputs": []
    },
    {
      "cell_type": "markdown",
      "source": [
        "6. Vergelijk het label dat is uitgeprint met het label. klopt dat?"
      ],
      "metadata": {
        "id": "kKse5pdJKzx1"
      }
    },
    {
      "cell_type": "code",
      "source": [],
      "metadata": {
        "id": "VVtGeyRC2eTt"
      },
      "execution_count": null,
      "outputs": []
    },
    {
      "cell_type": "code",
      "source": [
        "beter_plaatje = x_train_images[1]\n",
        "plt.imshow(beter_plaatje)"
      ],
      "metadata": {
        "id": "vKyBTjmvzOe-"
      },
      "execution_count": null,
      "outputs": []
    },
    {
      "cell_type": "code",
      "source": [
        "beter_plaatje = x_train_images[155]\n",
        "plt.imshow(beter_plaatje)"
      ],
      "metadata": {
        "id": "d7pz60gl0HSP"
      },
      "execution_count": null,
      "outputs": []
    },
    {
      "cell_type": "markdown",
      "source": [
        "7. Hoeveel plaatjes heeft x_train_images? klopt dit met het aantal labels?\n",
        "8. Verschillen de plaatjes uit de mnist database wel? of zijn ze hetzelfde.\n",
        "9. Maak zelf nieuwe code stukken en vergelijk drie plaatjes van dezelfede letters"
      ],
      "metadata": {
        "id": "_zglCxW7LOY6"
      }
    },
    {
      "cell_type": "code",
      "source": [],
      "metadata": {
        "id": "NXNM9-tqLldo"
      },
      "execution_count": null,
      "outputs": []
    },
    {
      "cell_type": "code",
      "source": [],
      "metadata": {
        "id": "7eubno0sLlob"
      },
      "execution_count": null,
      "outputs": []
    },
    {
      "cell_type": "code",
      "source": [],
      "metadata": {
        "id": "D80m9TXeLlyW"
      },
      "execution_count": null,
      "outputs": []
    },
    {
      "cell_type": "code",
      "source": [],
      "metadata": {
        "id": "9HDEh1pKLvjW"
      },
      "execution_count": null,
      "outputs": []
    },
    {
      "cell_type": "markdown",
      "source": [
        "Je kunt ook zelf plaatjes genereren door random pixels uit te delen, zie hieronder.\n",
        "10. Laat de np.array zien van een gegenereerd plaatje"
      ],
      "metadata": {
        "id": "P72y3fWgL0SA"
      }
    },
    {
      "cell_type": "code",
      "source": [
        "random = np.random.normal(0,1,size=[100,100])\n",
        "plt.imshow(random,aspect=\"auto\")\n",
        "plt.show()"
      ],
      "metadata": {
        "id": "YsZdm24s0MSM"
      },
      "execution_count": null,
      "outputs": []
    },
    {
      "cell_type": "code",
      "source": [],
      "metadata": {
        "id": "lJpD9PFWMJqy"
      },
      "execution_count": null,
      "outputs": []
    },
    {
      "cell_type": "markdown",
      "source": [
        "Nu zouden we de dimensievan 100x100 moeten reshapen() naar 28x28, voordat we het kunnen toevoegen.\n",
        "11. zorg voor een shape van 28 bij 28 (evt google) en print het uit.\n",
        "12. maak ook een label voor wat het is en print het label. Maak nieuwe code velden door de + Code onder bestand linksboven"
      ],
      "metadata": {
        "id": "YdprfIEWMMVM"
      }
    },
    {
      "cell_type": "code",
      "source": [
        "image = x_train_images[0]\n",
        "image.shape\n",
        ""
      ],
      "metadata": {
        "id": "npnHpZ-T0Xh2"
      },
      "execution_count": null,
      "outputs": []
    },
    {
      "cell_type": "code",
      "source": [
        "#reshape = plaatje.reshape((plaatje, 28, 28, 1))"
      ],
      "metadata": {
        "id": "VYR8g0vWMzN_"
      },
      "execution_count": null,
      "outputs": []
    },
    {
      "cell_type": "markdown",
      "source": [
        "# We gaan nu verder met het AI-model dat de images gaat analyseren\n",
        "## Hieronder stellen we de parameters in.\n",
        "Dat is dus enorm belangrijk! vooral epochs, want dat bepaalt hoe vaak het model de traningsset zal herhalen om er van te leren. De accuraatheid van de resultaten in de testset zijn afhankelijk van hoe vaak je traint.\n",
        "\n",
        "\"relu\" is een kernel met bepaalde vaststaande waardes. zo zijn er verschillende kernels die op basis van onderzoek zijn uitgekomen. Is vooral een verhaal over welke niet-lineaire vergelijking het beste werkt. Je wil eigenlijk een soort \"brick wall\". in de les zal ik dat kort voor de versterking en filtering van geluid uitleggen.\n",
        "\n",
        "13a Zoek op google naar enkele varianten van relu. welke grafiek hoort daarbij? voeg een plaatje toe.\n",
        "\n",
        "13b. Lees nog even verder, ik heb de epochs op 20 gezet. het stond op 1. Wat is het minste aantal herhalingen (epochs) waarmee we wel een zo optimaal mogelijk resultaat krijgen?\n",
        "\n",
        "13c Moet de pool_size en kernel_size maar 3 en 2 pixels zijn? waarom?\n",
        "\n",
        "13d wat betekent drop-out\n",
        "\n",
        "13e (extra) zijn er andere modellen dan \"adam\"?\n"
      ],
      "metadata": {
        "id": "3IVfed77M00C"
      }
    },
    {
      "cell_type": "code",
      "source": [
        "parameters = {\"shape\":28, \"activation\": \"relu\", \"classes\": 10, \"units\":12, \"optimizer\":\"adam\", \"epochs\":20,\"kernel_size\":3,\"pool_size\":2, \"dropout\":0.5}\n"
      ],
      "metadata": {
        "id": "xsowmOL84bXE"
      },
      "execution_count": null,
      "outputs": []
    },
    {
      "cell_type": "markdown",
      "source": [
        "Nu gaan we een model maken. Hieronder staan twee voorbeelden. Je kan maar 1 model tegelijk gebruiken dus let op welke velden je met shif+enter als laatste uitvoert."
      ],
      "metadata": {
        "id": "bDAHVmY9OIxn"
      }
    },
    {
      "cell_type": "code",
      "source": [
        "# Setup the layers\n",
        "keras = tf.keras\n",
        "layers = tf.keras.layers\n",
        "model = tf.keras.Sequential(\n",
        "  [\n",
        "      keras.Input(shape=(parameters[\"shape\"], parameters[\"shape\"], 1)),\n",
        "      layers.Conv2D(32, kernel_size=(parameters[\"kernel_size\"], parameters[\"kernel_size\"]), activation=parameters[\"activation\"]),\n",
        "      layers.MaxPooling2D(pool_size=(parameters[\"pool_size\"], parameters[\"pool_size\"])),\n",
        "      layers.Conv2D(64, kernel_size=(parameters[\"kernel_size\"], parameters[\"kernel_size\"]), activation=parameters[\"activation\"]),\n",
        "      layers.MaxPooling2D(pool_size=(parameters[\"pool_size\"], parameters[\"pool_size\"])),\n",
        "      layers.Flatten(),\n",
        "      layers.Dropout(parameters[\"dropout\"]),\n",
        "      layers.Dense(parameters[\"classes\"], activation=\"softmax\"),\n",
        "  ]\n",
        ")"
      ],
      "metadata": {
        "id": "8PrT5EYE_uLM"
      },
      "execution_count": null,
      "outputs": []
    },
    {
      "cell_type": "markdown",
      "source": [
        "We kunnen van ons eigen model in tekst uitprinten welke lagen het gebruikt.\n",
        "Ons model blijkt dus een soort neural network!"
      ],
      "metadata": {
        "id": "__qKa86qOTvb"
      }
    },
    {
      "cell_type": "code",
      "source": [
        "model.summary()"
      ],
      "metadata": {
        "id": "OIMBCwXX_CyT"
      },
      "execution_count": null,
      "outputs": []
    },
    {
      "cell_type": "markdown",
      "source": [
        "Alsof dat nog niet duidelijk genoeg was, kunnen we er ook een mooi plaatje van maken"
      ],
      "metadata": {
        "id": "x2TidZH1OkkQ"
      }
    },
    {
      "cell_type": "code",
      "source": [
        "tf.keras.utils.plot_model(\n",
        "    model,\n",
        "    to_file=\"model.png\",\n",
        "    show_shapes=True,\n",
        "    show_layer_names=True,\n",
        "    rankdir=\"TB\",\n",
        "    expand_nested=True,\n",
        "    dpi=96,\n",
        ")"
      ],
      "metadata": {
        "id": "Z69lqNas_DkS"
      },
      "execution_count": null,
      "outputs": []
    },
    {
      "cell_type": "code",
      "source": [
        "model = tf.keras.models.Sequential([\n",
        "  tf.keras.layers.Flatten(input_shape=(28, 28)),\n",
        "  tf.keras.layers.Dense(128, activation='relu'),\n",
        "  tf.keras.layers.Dropout(0.2),\n",
        "  tf.keras.layers.Dense(10)\n",
        "])"
      ],
      "metadata": {
        "id": "GGYLqcNJ5eBe"
      },
      "execution_count": null,
      "outputs": []
    },
    {
      "cell_type": "code",
      "source": [
        "model.summary()"
      ],
      "metadata": {
        "id": "GsJeCJM6_MYc"
      },
      "execution_count": null,
      "outputs": []
    },
    {
      "cell_type": "code",
      "source": [
        "tf.keras.utils.plot_model(\n",
        "    model,\n",
        "    to_file=\"model.png\",\n",
        "    show_shapes=True,\n",
        "    show_layer_names=True,\n",
        "    rankdir=\"TB\",\n",
        "    expand_nested=True,\n",
        "    dpi=96,\n",
        ")"
      ],
      "metadata": {
        "id": "MTLQK6z0_Ofj"
      },
      "execution_count": null,
      "outputs": []
    },
    {
      "cell_type": "markdown",
      "source": [
        "We kiezen er 1 uit en compileren ons model. Ons net getweakte AI staat klaar om te gebruiken dus!"
      ],
      "metadata": {
        "id": "P6_7kwKJOztC"
      }
    },
    {
      "cell_type": "code",
      "source": [
        "# Compile the model\n",
        "model.compile(optimizer=parameters[\"optimizer\"],\n",
        "            loss=tf.keras.losses.SparseCategoricalCrossentropy(),\n",
        "            metrics=['accuracy'])"
      ],
      "metadata": {
        "id": "6TM2wSTN6Dj8"
      },
      "execution_count": null,
      "outputs": []
    },
    {
      "cell_type": "markdown",
      "source": [
        "Heb je de epochs goed ingesteld? Daar gaan we!"
      ],
      "metadata": {
        "id": "EygEy3TdOyh4"
      }
    },
    {
      "cell_type": "code",
      "source": [
        "history = model.fit(x=x_train_images, y=y_train_labels,validation_data=(x_test_images,y_test_labels), epochs=parameters[\"epochs\"])"
      ],
      "metadata": {
        "id": "r8XK3UVi6PX-"
      },
      "execution_count": null,
      "outputs": []
    },
    {
      "cell_type": "markdown",
      "source": [
        "We zien de loss steeds verder naar beneden gaan in de tabel, en de accuracy omhoog. We kunnen dit met pandas grafisch weergeven, omdat we alles stieken in de variabele \"history\" hebben opgeslagen. Pandas maakt daar een lijst-achtig-dataframe van. ik weet het ook niet, ze zullen vast een klasse hebben geprogrammeerd om een fijn eigen datatype te kunnen gebruiken als een zakmes met opzetstukjes. zie een dataframe maar als een trekker dan. anyway: grafiekjes!!"
      ],
      "metadata": {
        "id": "NuR8X3NKPHtz"
      }
    },
    {
      "cell_type": "code",
      "source": [
        "metrics_df = pd.DataFrame(history.history)\n",
        "metrics_df[[\"loss\",\"val_loss\"]].plot();\n",
        "metrics_df[[\"accuracy\",\"val_accuracy\"]].plot();# The semicolon prevents certain matplotlib items from being printed."
      ],
      "metadata": {
        "id": "l8n9PiwN6Tds"
      },
      "execution_count": null,
      "outputs": []
    },
    {
      "cell_type": "markdown",
      "source": [
        "14. Leg uit wat de grafiekjes voor informatie geven."
      ],
      "metadata": {
        "id": "tAGJ0TGFPzTd"
      }
    },
    {
      "cell_type": "markdown",
      "source": [
        "Ik zag dat de tutorial (link bovenaan) nog meer deed. lijkt allemaal te werken, kijk even of je het nodig hebt.\n",
        "15. Wat is callback volgens de tutorial? wat doet het?"
      ],
      "metadata": {
        "id": "fxK7pJPTQAwL"
      }
    },
    {
      "cell_type": "code",
      "source": [
        "# And finally evaluate the accuracy\n",
        "test_loss, test_acc = model.evaluate(x_test_images,  y_test_labels, verbose=2)\n",
        "predictions = model.predict(x_test_images)\n",
        "df = pd.DataFrame(predictions, columns=[\"0\",\"1\",\"2\",\"3\",\"4\",\"5\",\"6\",\"7\",\"8\",\"9\"])"
      ],
      "metadata": {
        "id": "DG7O1gKk8tlJ"
      },
      "execution_count": null,
      "outputs": []
    },
    {
      "cell_type": "code",
      "source": [
        "callbacks = [tf.keras.callbacks.EarlyStopping(monitor='accuracy', mode=\"max\", patience=3)]\n",
        "# Compile the model\n",
        "model.compile(optimizer=parameters[\"optimizer\"],\n",
        "            loss=tf.keras.losses.SparseCategoricalCrossentropy(),\n",
        "            metrics=['accuracy'])\n",
        "history = model.fit(x=x_train_images, y=y_train_labels,validation_data=(x_test_images,y_test_labels), epochs=parameters[\"epochs\"],callbacks=callbacks)"
      ],
      "metadata": {
        "id": "Krmy5TRS-MHz"
      },
      "execution_count": null,
      "outputs": []
    },
    {
      "cell_type": "markdown",
      "source": [
        "15. Vergelijk nu de twee modellen die hierboven zijn gegeven. welke is het meest efficient? kun je ze even efficient maken door de epochs (aantal keer runnen) te verhogen? Beantwoord nu ook vraag 13."
      ],
      "metadata": {
        "id": "d4wewG_1QsCh"
      }
    },
    {
      "cell_type": "markdown",
      "source": [
        "16. Maak nu je eigen model door te kijken hoe je de meest optimale score krijgt. probeer uit hoeveel epochs en welke lagen je optimaal (meest accurate vindt). Maak een los codestukje dat een mooi plaatje maakt van de lagen in je model, zodat ik (en jij) makkelijk zie wat je doet!"
      ],
      "metadata": {
        "id": "6665GHeKR5Jx"
      }
    },
    {
      "cell_type": "markdown",
      "source": [
        "16. Kijk nu nog eens naar het model dat ik in het repl teams heb klaargezet. Kun je de eficientie van jouw model nog verhogen door daar te spieken en hier te runnen?"
      ],
      "metadata": {
        "id": "KPjzlBS8QiJt"
      }
    },
    {
      "cell_type": "markdown",
      "source": [
        "17. In de vorige tutorial hebben we een confusion matrix gezien om per resultaat in te zoemen op de scores. Krijg je die code hier ook aan de praat? Wat zegt het?"
      ],
      "metadata": {
        "id": "RPRr0ebITLTu"
      }
    },
    {
      "cell_type": "markdown",
      "source": [
        "#Eind van deze tutorial convolutional neural networks voor objectherkenning!"
      ],
      "metadata": {
        "id": "67OOeAf6TOXC"
      }
    },
    {
      "cell_type": "code",
      "source": [],
      "metadata": {
        "id": "6Ra9TFkxTW_g"
      },
      "execution_count": null,
      "outputs": []
    }
  ]
}